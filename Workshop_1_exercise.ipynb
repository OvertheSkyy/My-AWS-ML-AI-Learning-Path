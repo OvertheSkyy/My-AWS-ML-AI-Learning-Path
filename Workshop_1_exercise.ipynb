{
  "nbformat": 4,
  "nbformat_minor": 0,
  "metadata": {
    "colab": {
      "provenance": [],
      "include_colab_link": true
    },
    "kernelspec": {
      "name": "python3",
      "display_name": "Python 3"
    },
    "language_info": {
      "name": "python"
    }
  },
  "cells": [
    {
      "cell_type": "markdown",
      "metadata": {
        "id": "view-in-github",
        "colab_type": "text"
      },
      "source": [
        "<a href=\"https://colab.research.google.com/github/OvertheSkyy/My-AWS-ML-AI-Learning-Path/blob/main/Workshop_1_exercise.ipynb\" target=\"_parent\"><img src=\"https://colab.research.google.com/assets/colab-badge.svg\" alt=\"Open In Colab\"/></a>"
      ]
    },
    {
      "cell_type": "markdown",
      "source": [
        "## Workshop #1 Exercise\n",
        "##### You can visit the notebook for reference: https://github.com/AWS-MLAI/AWS-Cloud-Cloud-PUP-Manila-ML-AI/blob/master/Workshop%231_assets/Workshop_1.ipynb"
      ],
      "metadata": {
        "id": "cM9gfflL_6dj"
      }
    },
    {
      "cell_type": "markdown",
      "source": [
        "# But before starting, please make a copy of this notebook where you will be writing your code for this workshop. To do this, please follow the steps shown by the image provided below.\n",
        "\n",
        "<img src= \"https://github.com/AWS-MLAI/AWS-Cloud-Cloud-PUP-Manila-ML-AI/blob/master/Images/Saving_a_copy.png?raw=true\" height=600 width=1000/>"
      ],
      "metadata": {
        "id": "PpKrw1qHT3OC"
      }
    },
    {
      "cell_type": "markdown",
      "source": [
        "# When you are done with the task/s on your notebook please make share that your notebook is accessible by following the steps shown by the image provided below.\n",
        "\n",
        "<img src=\"https://github.com/AWS-MLAI/AWS-Cloud-Cloud-PUP-Manila-ML-AI/blob/master/Images/Sharing_notebook.png?raw=true\" height=500 width=1000>\n",
        "\n",
        "# Then paste the link of your notebook at Google Classroom for submission."
      ],
      "metadata": {
        "id": "iZfBcM9aYdYa"
      }
    },
    {
      "cell_type": "markdown",
      "source": [
        "**PYTHON SYNTAX EXCERCISES (1-7)**\n",
        "\n"
      ],
      "metadata": {
        "id": "PiyhAneeJYZI"
      }
    },
    {
      "cell_type": "markdown",
      "source": [
        "### 1. Create a `myName` variable and `myAge` variable and print it using python formatting\n",
        "#### Sample output: `My name is Roljohn Frilles and I am 20 years old`"
      ],
      "metadata": {
        "id": "fwj3hEbVAgJC"
      }
    },
    {
      "cell_type": "code",
      "source": [
        "# Enter your code here"
      ],
      "metadata": {
        "id": "T-9pGcfgBykr"
      },
      "execution_count": null,
      "outputs": []
    },
    {
      "cell_type": "markdown",
      "source": [
        "### 2. Create an array of float and an array of strings both with size 3\n",
        "\n",
        "\n"
      ],
      "metadata": {
        "id": "gAw6zXYoB0W0"
      }
    },
    {
      "cell_type": "code",
      "source": [
        "# Enter your code here"
      ],
      "metadata": {
        "id": "dRXROrCDCy7_"
      },
      "execution_count": null,
      "outputs": []
    },
    {
      "cell_type": "markdown",
      "source": [
        "### 3. Using the two variables `x` and `y` as operands given below, perform basic arithmetic operations, specifically addition, subtraction, multiplication, and division, then assign each to variable, and print them after."
      ],
      "metadata": {
        "id": "DXYJ8qZmC1l6"
      }
    },
    {
      "cell_type": "code",
      "source": [
        "# Given operands\n",
        "x = 20\n",
        "y = 5\n",
        "\n",
        "# Your code\n",
        "sum =\n",
        "difference =\n",
        "product =\n",
        "quotient ="
      ],
      "metadata": {
        "id": "d-D78Qh6Dpng"
      },
      "execution_count": null,
      "outputs": []
    },
    {
      "cell_type": "markdown",
      "source": [
        "## 4. Create a conditional statement to compare variables `myNumber` and `yourNumber`. Then make a print statement to determine whether `myNumber` is greater than `yourNumber` or vice versa."
      ],
      "metadata": {
        "id": "30qEI5ecEeVw"
      }
    },
    {
      "cell_type": "code",
      "source": [
        "# Variables to compare\n",
        "myNumber = 12\n",
        "yourNumber =   # Enter your preferred number here\n",
        "\n",
        "\n",
        "# Your conditional statement\n"
      ],
      "metadata": {
        "id": "CGQVc8LbHZsc"
      },
      "execution_count": null,
      "outputs": []
    },
    {
      "cell_type": "markdown",
      "source": [
        "## 5. Make a for loop statement to print a sequence of values from 0 to 4 using `range()`"
      ],
      "metadata": {
        "id": "uzy5SbPKHlnY"
      }
    },
    {
      "cell_type": "code",
      "source": [
        "# Your code"
      ],
      "metadata": {
        "id": "P7ADHCbVIFOF"
      },
      "execution_count": null,
      "outputs": []
    },
    {
      "cell_type": "markdown",
      "source": [
        "## 6. Create a list with elements `[\"Artificial Intelligence\", \"Machine Learning\", \"Deep Learning\"]`, then Iterate and print each element of the list using for loop"
      ],
      "metadata": {
        "id": "XKq8z7UIIJoS"
      }
    },
    {
      "cell_type": "code",
      "source": [
        "# Given list\n",
        "\n",
        "\n",
        "# Your for loop statement\n"
      ],
      "metadata": {
        "id": "WqUtJrfcIW_8"
      },
      "execution_count": null,
      "outputs": []
    },
    {
      "cell_type": "markdown",
      "source": [
        "## 7. Create a function that multiply two numbers, and returns the product."
      ],
      "metadata": {
        "id": "T3M0VukfJHVA"
      }
    },
    {
      "cell_type": "code",
      "source": [
        "# Your code"
      ],
      "metadata": {
        "id": "D_HaOnDeJT68"
      },
      "execution_count": null,
      "outputs": []
    },
    {
      "cell_type": "markdown",
      "source": [
        "**NUMPY EXERCISES**"
      ],
      "metadata": {
        "id": "G0SHgrLOJy01"
      }
    },
    {
      "cell_type": "markdown",
      "source": [
        "## 1. Import the `numpy` library as `np`, and Create 1D arrays of ones and zeros both with size `10`"
      ],
      "metadata": {
        "id": "koiRu8JYKO67"
      }
    },
    {
      "cell_type": "code",
      "source": [
        "# Your code"
      ],
      "metadata": {
        "id": "S55P_xpoJ4xD"
      },
      "execution_count": null,
      "outputs": []
    },
    {
      "cell_type": "markdown",
      "source": [
        "## 2. Create 2D arrays of ones and zeros both with shape (3, 4)"
      ],
      "metadata": {
        "id": "t4eq6iRRK0ra"
      }
    },
    {
      "cell_type": "code",
      "source": [
        "# Your code"
      ],
      "metadata": {
        "id": "5ZErJjeXK7hF"
      },
      "execution_count": null,
      "outputs": []
    },
    {
      "cell_type": "markdown",
      "source": [
        "## 3. Create a 2D array filled with a specific value `42` with shape (3, 4)."
      ],
      "metadata": {
        "id": "XKQWh-FfLiAW"
      }
    },
    {
      "cell_type": "code",
      "source": [
        "# Your code"
      ],
      "metadata": {
        "id": "HjbZm6fDMZRe"
      },
      "execution_count": null,
      "outputs": []
    },
    {
      "cell_type": "markdown",
      "source": [
        "## 4. Create a variable named `nan_variable` and assign it a `nan` value, then check whether the variable `nan_variable` contains a `nan` value.\n",
        "\n"
      ],
      "metadata": {
        "id": "OiDbs6yJLsPp"
      }
    },
    {
      "cell_type": "code",
      "source": [
        "# Your code"
      ],
      "metadata": {
        "id": "llCJl4_YMPxm"
      },
      "execution_count": null,
      "outputs": []
    },
    {
      "cell_type": "markdown",
      "source": [
        "## 5. Create a variable named `inf_variable` and assign it an `inf` value, then check whether the variable `inf_variable` contains an `inf` value.\n"
      ],
      "metadata": {
        "id": "hK1KV22ING4m"
      }
    },
    {
      "cell_type": "code",
      "source": [
        "# Your code"
      ],
      "metadata": {
        "id": "lGhIGWo5NOiu"
      },
      "execution_count": null,
      "outputs": []
    },
    {
      "cell_type": "markdown",
      "source": [
        "## 6. Create an array based on the instruction below."
      ],
      "metadata": {
        "id": "mrAnXdaTmyb8"
      }
    },
    {
      "cell_type": "code",
      "source": [
        "# Create a 1D array with size 5\n",
        "\n",
        "\n",
        "# Create a 2D array with shape (2x4)"
      ],
      "metadata": {
        "id": "dXS-ghrsndoP"
      },
      "execution_count": null,
      "outputs": []
    },
    {
      "cell_type": "markdown",
      "source": [
        "\n",
        "## 7. Create random values based on the instruction provided below:"
      ],
      "metadata": {
        "id": "X-3db_4ToalV"
      }
    },
    {
      "cell_type": "code",
      "source": [
        "# Create a random array with an upper limit of 10 (numbers between 0-10) with shape (4x2)\n",
        "\n",
        "\n",
        "# Create a random array with values ranging 0-1 using `np.random.rand()` with shape (4x2)"
      ],
      "metadata": {
        "id": "fCw3efBdobDr"
      },
      "execution_count": null,
      "outputs": []
    },
    {
      "cell_type": "markdown",
      "source": [
        "\n",
        "## 8. Convert the given array's datatype below into integers"
      ],
      "metadata": {
        "id": "19snguEvo_Qa"
      }
    },
    {
      "cell_type": "code",
      "source": [
        "import numpy as np\n",
        "\n",
        "np.random.seed(42)\n",
        "given_array = np.random.uniform(10, size=(4, 2))\n",
        "\n",
        "# Your code"
      ],
      "metadata": {
        "colab": {
          "base_uri": "https://localhost:8080/"
        },
        "id": "3i5cl2fwq3WX",
        "outputId": "ce6906d3-f40f-47f0-eda8-bab5409f2203"
      },
      "execution_count": null,
      "outputs": [
        {
          "output_type": "execute_result",
          "data": {
            "text/plain": [
              "array([[6.62913893, 1.44357124],\n",
              "       [3.41205452, 4.61207364],\n",
              "       [8.59583224, 8.59604932],\n",
              "       [9.47724749, 2.20441469]])"
            ]
          },
          "metadata": {},
          "execution_count": 13
        }
      ]
    },
    {
      "cell_type": "markdown",
      "source": [
        "## 9. Append the values `25` and `2` respectively to the given array below"
      ],
      "metadata": {
        "id": "Gpb-C3FcrAjf"
      }
    },
    {
      "cell_type": "code",
      "source": [
        "import numpy as np\n",
        "\n",
        "given_array = np.array([9, 2, 1, 7])\n",
        "\n",
        "# Your code"
      ],
      "metadata": {
        "id": "TvArec-NsGYc"
      },
      "execution_count": null,
      "outputs": []
    },
    {
      "cell_type": "markdown",
      "source": [
        "## 10. Create your own two 2D arrays, then follow the instructions provided below"
      ],
      "metadata": {
        "id": "WbVvSl6nsbpn"
      }
    },
    {
      "cell_type": "code",
      "source": [
        "# Your first 2D array\n",
        "\n",
        "# Your second 2D array\n",
        "\n",
        "# Concatenate your two arrays column-wise\n",
        "\n",
        "# Stack your two arrays\n",
        "\n",
        "# Split your two arrays into 3 arrays row-wise"
      ],
      "metadata": {
        "id": "STBJJ0res-8p"
      },
      "execution_count": null,
      "outputs": []
    },
    {
      "cell_type": "markdown",
      "source": [
        "## 11. Create a random seed with argument value `42`, and create a random array using `np.random.rand()` with shape (2x4), then follow the instructions provided below"
      ],
      "metadata": {
        "id": "AGjwatAct24x"
      }
    },
    {
      "cell_type": "code",
      "source": [
        "# Create a random seed\n",
        "\n",
        "# Create a random array with `np.random.rand()` with shape (2x4)\n",
        "\n",
        "# Print the size of the array\n",
        "\n",
        "# Print the shape of the array\n",
        "\n",
        "# Print the datatype of the array\n",
        "\n",
        "# Print the number of dimensions the array has"
      ],
      "metadata": {
        "id": "aof4NyoOuZg2"
      },
      "execution_count": null,
      "outputs": []
    },
    {
      "cell_type": "markdown",
      "source": [
        "## 12. Manipulate the dimensions of the given array with shape (2x5) based on the instructions provided below"
      ],
      "metadata": {
        "id": "aJnuVVZ9vPJ3"
      }
    },
    {
      "cell_type": "code",
      "source": [
        "import numpy as np\n",
        "\n",
        "np.random.seed(42)\n",
        "\n",
        "# Given random array with shape (2x5)\n",
        "random_array = np.random.randint(10, size=(2, 5))\n",
        "\n",
        "# Swap the two dimension size from (2x5) to (5x2)\n",
        "\n",
        "# Reshape the array from (2x5) to (10x1)\n",
        "\n",
        "# Flatten the array"
      ],
      "metadata": {
        "id": "W8fFgFDzvc_a"
      },
      "execution_count": null,
      "outputs": []
    },
    {
      "cell_type": "markdown",
      "source": [
        "## 13. Find the largest and smallest value of the given array based on the instructions provided below"
      ],
      "metadata": {
        "id": "cV11P75MwSpx"
      }
    },
    {
      "cell_type": "code",
      "source": [
        "import numpy as np\n",
        "\n",
        "np.random.seed(42)\n",
        "\n",
        "# Given array\n",
        "random_array = np.random.randint(100, size=(4, 5))\n",
        "\n",
        "# Take the largest value of the ENTIRE of the array\n",
        "\n",
        "# Take the smallest value of EACH ROW of the array"
      ],
      "metadata": {
        "id": "WP7G2HWwwuUF"
      },
      "execution_count": null,
      "outputs": []
    },
    {
      "cell_type": "markdown",
      "source": [
        "## 14. Perform arithmetic operations using the two arrays provided below"
      ],
      "metadata": {
        "id": "CGky606qxVfV"
      }
    },
    {
      "cell_type": "code",
      "source": [
        "import numpy as np\n",
        "\n",
        "# First array\n",
        "first_array = np.array([5, 2, 10, 4])\n",
        "\n",
        "# Second array\n",
        "second_array = np.array([21, 52, 7, 10])\n",
        "\n",
        "# Add the two arrays\n",
        "\n",
        "# Subtract the two arrays\n",
        "\n",
        "# Multiply the two arrays\n",
        "\n",
        "# Divide the two arrays"
      ],
      "metadata": {
        "id": "6Tj64MWUxw8s"
      },
      "execution_count": null,
      "outputs": []
    }
  ]
}