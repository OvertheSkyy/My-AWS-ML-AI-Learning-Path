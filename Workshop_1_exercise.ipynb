{
  "nbformat": 4,
  "nbformat_minor": 0,
  "metadata": {
    "colab": {
      "provenance": [],
      "include_colab_link": true
    },
    "kernelspec": {
      "name": "python3",
      "display_name": "Python 3"
    },
    "language_info": {
      "name": "python"
    }
  },
  "cells": [
    {
      "cell_type": "markdown",
      "metadata": {
        "id": "view-in-github",
        "colab_type": "text"
      },
      "source": [
        "<a href=\"https://colab.research.google.com/github/OvertheSkyy/My-AWS-ML-AI-Learning-Path/blob/main/Workshop_1_exercise.ipynb\" target=\"_parent\"><img src=\"https://colab.research.google.com/assets/colab-badge.svg\" alt=\"Open In Colab\"/></a>"
      ]
    },
    {
      "cell_type": "markdown",
      "source": [
        "## Workshop #1 Exercise\n",
        "##### You can visit the notebook for reference: https://github.com/AWS-MLAI/AWS-Cloud-Cloud-PUP-Manila-ML-AI/blob/master/Workshop%231_assets/Workshop_1.ipynb"
      ],
      "metadata": {
        "id": "cM9gfflL_6dj"
      }
    },
    {
      "cell_type": "markdown",
      "source": [
        "# But before starting, please make a copy of this notebook where you will be writing your code for this workshop. To do this, please follow the steps shown by the image provided below.\n",
        "\n",
        "<img src= \"https://github.com/AWS-MLAI/AWS-Cloud-Cloud-PUP-Manila-ML-AI/blob/master/Images/Saving_a_copy.png?raw=true\" height=600 width=1000/>"
      ],
      "metadata": {
        "id": "PpKrw1qHT3OC"
      }
    },
    {
      "cell_type": "markdown",
      "source": [
        "# When you are done with the task/s on your notebook please make share that your notebook is accessible by following the steps shown by the image provided below.\n",
        "\n",
        "<img src=\"https://github.com/AWS-MLAI/AWS-Cloud-Cloud-PUP-Manila-ML-AI/blob/master/Images/Sharing_notebook.png?raw=true\" height=500 width=1000>\n",
        "\n",
        "# Then paste the link of your notebook at Google Classroom for submission."
      ],
      "metadata": {
        "id": "iZfBcM9aYdYa"
      }
    },
    {
      "cell_type": "markdown",
      "source": [
        "**PYTHON SYNTAX EXCERCISES (1-7)**\n",
        "\n"
      ],
      "metadata": {
        "id": "PiyhAneeJYZI"
      }
    },
    {
      "cell_type": "markdown",
      "source": [
        "### 1. Create a `myName` variable and `myAge` variable and print it using python formatting\n",
        "#### Sample output: `My name is Roljohn Frilles and I am 20 years old`"
      ],
      "metadata": {
        "id": "fwj3hEbVAgJC"
      }
    },
    {
      "cell_type": "code",
      "source": [
        "myName = \"Sung Jinwoo\"\n",
        "myAge = 24\n",
        "\n",
        "print(f\"My name is {myName} and I am {myAge} years old\")"
      ],
      "metadata": {
        "id": "T-9pGcfgBykr",
        "colab": {
          "base_uri": "https://localhost:8080/"
        },
        "outputId": "4c870270-d3ce-477a-b3fd-2a1b6effaa0a"
      },
      "execution_count": 2,
      "outputs": [
        {
          "output_type": "stream",
          "name": "stdout",
          "text": [
            "My name is Sung Jinwoo and I am 24 years old\n"
          ]
        }
      ]
    },
    {
      "cell_type": "markdown",
      "source": [
        "### 2. Create an array of float and an array of strings both with size 3\n",
        "\n",
        "\n"
      ],
      "metadata": {
        "id": "gAw6zXYoB0W0"
      }
    },
    {
      "cell_type": "code",
      "source": [
        "random_float = [300.25, 655.76, 1782.78]\n",
        "hi_diff_countries = [\"Hi\", \"Bonjour\", \"Nǐn hǎo\"]"
      ],
      "metadata": {
        "id": "dRXROrCDCy7_"
      },
      "execution_count": 3,
      "outputs": []
    },
    {
      "cell_type": "markdown",
      "source": [
        "### 3. Using the two variables `x` and `y` as operands given below, perform basic arithmetic operations, specifically addition, subtraction, multiplication, and division, then assign each to variable, and print them after."
      ],
      "metadata": {
        "id": "DXYJ8qZmC1l6"
      }
    },
    {
      "cell_type": "code",
      "source": [
        "# Given operands\n",
        "x = 20\n",
        "y = 5\n",
        "\n",
        "# Your code\n",
        "sum = x + y\n",
        "difference = x - y\n",
        "product = x * y\n",
        "quotient = x / y\n",
        "\n",
        "print(f\"Here are the results, sum: {sum}, difference: {difference}, product: {product}, quotient:{quotient}\")"
      ],
      "metadata": {
        "id": "d-D78Qh6Dpng",
        "colab": {
          "base_uri": "https://localhost:8080/"
        },
        "outputId": "40018a80-038c-487e-9729-18f9e4c79dba"
      },
      "execution_count": 4,
      "outputs": [
        {
          "output_type": "stream",
          "name": "stdout",
          "text": [
            "Here are the results, sum: 25, difference: 15, product: 100, quotient:4.0\n"
          ]
        }
      ]
    },
    {
      "cell_type": "markdown",
      "source": [
        "## 4. Create a conditional statement to compare variables `myNumber` and `yourNumber`. Then make a print statement to determine whether `myNumber` is greater than `yourNumber` or vice versa."
      ],
      "metadata": {
        "id": "30qEI5ecEeVw"
      }
    },
    {
      "cell_type": "code",
      "source": [
        "# Variables to compare\n",
        "myNumber = 12\n",
        "yourNumber = 68\n",
        "\n",
        "\n",
        "# Your conditional statement\n",
        "if yourNumber > myNumber:\n",
        "  print(f\"My number, {yourNumber}, is greater than your number, {myNumber}.\")"
      ],
      "metadata": {
        "id": "CGQVc8LbHZsc",
        "colab": {
          "base_uri": "https://localhost:8080/"
        },
        "outputId": "62a1e084-6753-47b8-a20f-a66d2e71fe44"
      },
      "execution_count": 5,
      "outputs": [
        {
          "output_type": "stream",
          "name": "stdout",
          "text": [
            "My number, 68, is greater than your number, 12.\n"
          ]
        }
      ]
    },
    {
      "cell_type": "markdown",
      "source": [
        "## 5. Make a for loop statement to print a sequence of values from 0 to 4 using `range()`"
      ],
      "metadata": {
        "id": "uzy5SbPKHlnY"
      }
    },
    {
      "cell_type": "code",
      "source": [
        "for i in range(5):\n",
        "  print(i)"
      ],
      "metadata": {
        "id": "P7ADHCbVIFOF",
        "colab": {
          "base_uri": "https://localhost:8080/"
        },
        "outputId": "f5687502-0dde-469b-de5a-eabab0d79090"
      },
      "execution_count": 6,
      "outputs": [
        {
          "output_type": "stream",
          "name": "stdout",
          "text": [
            "0\n",
            "1\n",
            "2\n",
            "3\n",
            "4\n"
          ]
        }
      ]
    },
    {
      "cell_type": "markdown",
      "source": [
        "## 6. Create a list with elements `[\"Artificial Intelligence\", \"Machine Learning\", \"Deep Learning\"]`, then Iterate and print each element of the list using for loop"
      ],
      "metadata": {
        "id": "XKq8z7UIIJoS"
      }
    },
    {
      "cell_type": "code",
      "source": [
        "ai_elements = [\"Artificial Intelligence\", \"Machine Learning\", \"Deep Learning\"]\n",
        "\n",
        "\n",
        "# Your for loop statement\n",
        "for i in ai_elements:\n",
        "  print(i)"
      ],
      "metadata": {
        "id": "WqUtJrfcIW_8",
        "colab": {
          "base_uri": "https://localhost:8080/"
        },
        "outputId": "78cd5977-16c2-45b0-9631-045b86da6ee1"
      },
      "execution_count": 7,
      "outputs": [
        {
          "output_type": "stream",
          "name": "stdout",
          "text": [
            "Artificial Intelligence\n",
            "Machine Learning\n",
            "Deep Learning\n"
          ]
        }
      ]
    },
    {
      "cell_type": "markdown",
      "source": [
        "## 7. Create a function that multiply two numbers, and returns the product."
      ],
      "metadata": {
        "id": "T3M0VukfJHVA"
      }
    },
    {
      "cell_type": "code",
      "source": [
        "def product(num1, num2):\n",
        "    return num1 * num2\n",
        "\n",
        "result = product(2, 3)\n",
        "print(result)"
      ],
      "metadata": {
        "id": "D_HaOnDeJT68",
        "colab": {
          "base_uri": "https://localhost:8080/"
        },
        "outputId": "7a23ce67-749e-4862-ae0b-57f5e7cd5d82"
      },
      "execution_count": 8,
      "outputs": [
        {
          "output_type": "stream",
          "name": "stdout",
          "text": [
            "6\n"
          ]
        }
      ]
    },
    {
      "cell_type": "markdown",
      "source": [
        "**NUMPY EXERCISES**"
      ],
      "metadata": {
        "id": "G0SHgrLOJy01"
      }
    },
    {
      "cell_type": "markdown",
      "source": [
        "## 1. Import the `numpy` library as `np`, and Create 1D arrays of ones and zeros both with size `10`"
      ],
      "metadata": {
        "id": "koiRu8JYKO67"
      }
    },
    {
      "cell_type": "code",
      "source": [
        "import numpy as np\n",
        "\n",
        "zeros_1D_arr = np.zeros(10)\n",
        "\n",
        "ones_1D_arr = np.ones(10)\n",
        "\n",
        "#check array elements\n",
        "print(zeros_1D_arr, ones_1D_arr)"
      ],
      "metadata": {
        "id": "S55P_xpoJ4xD",
        "colab": {
          "base_uri": "https://localhost:8080/"
        },
        "outputId": "8c898c99-4734-40d0-c387-96da631024b8"
      },
      "execution_count": 9,
      "outputs": [
        {
          "output_type": "stream",
          "name": "stdout",
          "text": [
            "[0. 0. 0. 0. 0. 0. 0. 0. 0. 0.] [1. 1. 1. 1. 1. 1. 1. 1. 1. 1.]\n"
          ]
        }
      ]
    },
    {
      "cell_type": "markdown",
      "source": [
        "## 2. Create 2D arrays of ones and zeros both with shape (3, 4)"
      ],
      "metadata": {
        "id": "t4eq6iRRK0ra"
      }
    },
    {
      "cell_type": "code",
      "source": [
        "zeros_two_dim_arr = np.zeros((3,4))\n",
        "\n",
        "ones_two_dim_arr = np.ones((3,4))\n",
        "\n",
        "#check array elements\n",
        "print(f\"{zeros_two_dim_arr}, \\n{ones_two_dim_arr}\\n\")"
      ],
      "metadata": {
        "id": "5ZErJjeXK7hF",
        "colab": {
          "base_uri": "https://localhost:8080/"
        },
        "outputId": "3709607e-a224-4f08-d93f-66a92f1eddaf"
      },
      "execution_count": 10,
      "outputs": [
        {
          "output_type": "stream",
          "name": "stdout",
          "text": [
            "[[0. 0. 0. 0.]\n",
            " [0. 0. 0. 0.]\n",
            " [0. 0. 0. 0.]], \n",
            "[[1. 1. 1. 1.]\n",
            " [1. 1. 1. 1.]\n",
            " [1. 1. 1. 1.]]\n",
            "\n"
          ]
        }
      ]
    },
    {
      "cell_type": "markdown",
      "source": [
        "## 3. Create a 2D array filled with a specific value `42` with shape (3, 4)."
      ],
      "metadata": {
        "id": "XKQWh-FfLiAW"
      }
    },
    {
      "cell_type": "code",
      "source": [
        "specific_value = 42\n",
        "\n",
        "my_2D_arr = np.full((3,4), specific_value)\n",
        "\n",
        "# Check 2D array\n",
        "print(my_2D_arr)"
      ],
      "metadata": {
        "id": "HjbZm6fDMZRe",
        "colab": {
          "base_uri": "https://localhost:8080/"
        },
        "outputId": "0eb04944-a3dd-462c-ee5e-bc3f6bdf4c25"
      },
      "execution_count": 11,
      "outputs": [
        {
          "output_type": "stream",
          "name": "stdout",
          "text": [
            "[[42 42 42 42]\n",
            " [42 42 42 42]\n",
            " [42 42 42 42]]\n"
          ]
        }
      ]
    },
    {
      "cell_type": "markdown",
      "source": [
        "## 4. Create a variable named `nan_variable` and assign it a `nan` value, then check whether the variable `nan_variable` contains a `nan` value.\n",
        "\n"
      ],
      "metadata": {
        "id": "OiDbs6yJLsPp"
      }
    },
    {
      "cell_type": "code",
      "source": [
        "nan_variable = np.NaN # Assign a NaN value to variable `nan_value`\n",
        "\n",
        "if np.isnan(nan_variable) == True:\n",
        "  print(\"The nan_variable has a NaN value.\")"
      ],
      "metadata": {
        "id": "llCJl4_YMPxm",
        "colab": {
          "base_uri": "https://localhost:8080/"
        },
        "outputId": "ece7d28f-5bf8-45e4-c9b3-6f1272c54f3b"
      },
      "execution_count": 12,
      "outputs": [
        {
          "output_type": "stream",
          "name": "stdout",
          "text": [
            "The nan_variable has a NaN value.\n"
          ]
        }
      ]
    },
    {
      "cell_type": "markdown",
      "source": [
        "## 5. Create a variable named `inf_variable` and assign it an `inf` value, then check whether the variable `inf_variable` contains an `inf` value.\n"
      ],
      "metadata": {
        "id": "hK1KV22ING4m"
      }
    },
    {
      "cell_type": "code",
      "source": [
        "inf_variable = np.inf # Assign a inf value to variable `inf_value`\n",
        "if np.isinf(inf_variable) == True:\n",
        "  print(\"The inf_variable has a inf value.\")"
      ],
      "metadata": {
        "id": "lGhIGWo5NOiu",
        "colab": {
          "base_uri": "https://localhost:8080/"
        },
        "outputId": "d7f711b9-a379-4fcd-b8e3-5a35e605e9c9"
      },
      "execution_count": 13,
      "outputs": [
        {
          "output_type": "stream",
          "name": "stdout",
          "text": [
            "The inf_variable has a inf value.\n"
          ]
        }
      ]
    },
    {
      "cell_type": "markdown",
      "source": [
        "## 6. Create an array based on the instruction below."
      ],
      "metadata": {
        "id": "mrAnXdaTmyb8"
      }
    },
    {
      "cell_type": "code",
      "source": [
        "# Create a 1D array with size 5\n",
        "one_dim_arr = np.array([1, 2, 3, 4, 5])\n",
        "\n",
        "# Check 1D array\n",
        "print(f\"1D array with size 5: \\n {one_dim_arr}\\n\")\n",
        "\n",
        "# Create a 2D array with shape (2x4)\n",
        "two_dim_arr = np.array([[1, 2, 3, 4], [5, 6, 7, 8]])\n",
        "\n",
        "print(f\"2D array with size 2x4: \\n {two_dim_arr}\\n\")"
      ],
      "metadata": {
        "id": "dXS-ghrsndoP",
        "colab": {
          "base_uri": "https://localhost:8080/"
        },
        "outputId": "6d9229b0-37f0-451d-e76d-d75278700914"
      },
      "execution_count": 14,
      "outputs": [
        {
          "output_type": "stream",
          "name": "stdout",
          "text": [
            "1D array with size 5: \n",
            " [1 2 3 4 5]\n",
            "\n",
            "2D array with size 2x4: \n",
            " [[1 2 3 4]\n",
            " [5 6 7 8]]\n",
            "\n"
          ]
        }
      ]
    },
    {
      "cell_type": "markdown",
      "source": [
        "\n",
        "## 7. Create random values based on the instruction provided below:"
      ],
      "metadata": {
        "id": "X-3db_4ToalV"
      }
    },
    {
      "cell_type": "code",
      "source": [
        "# Create a random array with an upper limit of 10 (numbers between 0-10) with shape (4x2)\n",
        "np.random.seed(1)\n",
        "\n",
        "upper_bound = 10\n",
        "\n",
        "random_array = np.random.randint(upper_bound, size=(4,2))\n",
        "print(f\"Random array: \\n{random_array}\\n\")\n",
        "\n",
        "# Create a random array with values ranging 0-1 using `np.random.rand()` with shape (4x2)\n",
        "random_array = np.random.rand(4,2)\n",
        "print(f\"Random array: \\n{random_array}\\n\")"
      ],
      "metadata": {
        "id": "fCw3efBdobDr",
        "colab": {
          "base_uri": "https://localhost:8080/"
        },
        "outputId": "fd4fdd49-d7dc-4362-f1fb-738b68940ab2"
      },
      "execution_count": 32,
      "outputs": [
        {
          "output_type": "stream",
          "name": "stdout",
          "text": [
            "Random array: \n",
            "[[5 8]\n",
            " [9 5]\n",
            " [0 0]\n",
            " [1 7]]\n",
            "\n",
            "Random array: \n",
            "[[0.34556073 0.39676747]\n",
            " [0.53881673 0.41919451]\n",
            " [0.6852195  0.20445225]\n",
            " [0.87811744 0.02738759]]\n",
            "\n"
          ]
        }
      ]
    },
    {
      "cell_type": "markdown",
      "source": [
        "\n",
        "## 8. Convert the given array's datatype below into integers"
      ],
      "metadata": {
        "id": "19snguEvo_Qa"
      }
    },
    {
      "cell_type": "code",
      "source": [
        "import numpy as np\n",
        "\n",
        "np.random.seed(42)\n",
        "given_array = np.random.uniform(10, size=(4, 2))\n",
        "\n",
        "# Your code\n",
        "given_array_transformed = given_array.astype(np.intc)\n",
        "\n",
        "given_array_transformed"
      ],
      "metadata": {
        "id": "3i5cl2fwq3WX",
        "colab": {
          "base_uri": "https://localhost:8080/"
        },
        "outputId": "bfa2242c-c4ac-43e6-cb4c-f836cfa39ef7"
      },
      "execution_count": 42,
      "outputs": [
        {
          "output_type": "execute_result",
          "data": {
            "text/plain": [
              "array([[6, 1],\n",
              "       [3, 4],\n",
              "       [8, 8],\n",
              "       [9, 2]], dtype=int32)"
            ]
          },
          "metadata": {},
          "execution_count": 42
        }
      ]
    },
    {
      "cell_type": "markdown",
      "source": [
        "## 9. Append the values `25` and `2` respectively to the given array below"
      ],
      "metadata": {
        "id": "Gpb-C3FcrAjf"
      }
    },
    {
      "cell_type": "code",
      "source": [
        "import numpy as np\n",
        "\n",
        "given_array = np.array([9, 2, 1, 7])\n",
        "\n",
        "val_to_append = [25, 2]\n",
        "val_array_appended = np.append(given_array, val_to_append)\n",
        "print(f\"Updated Array values: {val_array_appended}\\n\")"
      ],
      "metadata": {
        "id": "TvArec-NsGYc",
        "colab": {
          "base_uri": "https://localhost:8080/"
        },
        "outputId": "2ddf10ec-8347-4aa3-c24a-c046fccfba78"
      },
      "execution_count": 44,
      "outputs": [
        {
          "output_type": "stream",
          "name": "stdout",
          "text": [
            "Updated Array values: [ 9  2  1  7 25  2]\n",
            "\n"
          ]
        }
      ]
    },
    {
      "cell_type": "markdown",
      "source": [
        "## 10. Create your own two 2D arrays, then follow the instructions provided below"
      ],
      "metadata": {
        "id": "WbVvSl6nsbpn"
      }
    },
    {
      "cell_type": "code",
      "source": [
        "# Your first 2D array\n",
        "first_matrix = np.array([[1, 2, 3, 4, 5, 6, 7, 8, 9, 10], [11, 12, 13, 14, 15, 16, 17, 18, 19, 20]])\n",
        "\n",
        "# Your second 2D array\n",
        "second_matrix = np.array([[21, 22, 23, 24, 25, 26, 27, 28, 29, 30], [31, 32, 33, 34, 35, 36, 37, 38, 39, 40]])\n",
        "\n",
        "# Concatenate your two arrays column-wise\n",
        "concatenated_column_wise = np.hstack((first_matrix, second_matrix))\n",
        "print(f\"Concatenated arrays column-wise: \\n{concatenated_column_wise}\\n\")\n",
        "\n",
        "# Stack your two arrays\n",
        "stacked_matrix = np.stack((first_matrix, second_matrix))\n",
        "print(f\"Stacked arrays: \\n{stacked_matrix}\\n\")\n",
        "\n",
        "# Split your two arrays into 3 arrays row-wise\n",
        "\n",
        "concatenated_row_wise = np.vstack((first_matrix, second_matrix))\n",
        "split_to_three = 3\n",
        "split_matrix_row_wise = np.array_split(concatenated_row_wise, split_to_three, axis=0)\n",
        "\n",
        "print(f\"Row-wise array: \\n{concatenated_row_wise}\\n\")\n",
        "print(f\"Row-wise splitted array: \\n{split_matrix_row_wise}\\n\")"
      ],
      "metadata": {
        "id": "STBJJ0res-8p",
        "colab": {
          "base_uri": "https://localhost:8080/"
        },
        "outputId": "144cb6ff-ac5d-4b40-f741-4b5e1df2c825"
      },
      "execution_count": 56,
      "outputs": [
        {
          "output_type": "stream",
          "name": "stdout",
          "text": [
            "Concatenated arrays column-wise: \n",
            "[[ 1  2  3  4  5  6  7  8  9 10 21 22 23 24 25 26 27 28 29 30]\n",
            " [11 12 13 14 15 16 17 18 19 20 31 32 33 34 35 36 37 38 39 40]]\n",
            "\n",
            "Stacked arrays: \n",
            "[[[ 1  2  3  4  5  6  7  8  9 10]\n",
            "  [11 12 13 14 15 16 17 18 19 20]]\n",
            "\n",
            " [[21 22 23 24 25 26 27 28 29 30]\n",
            "  [31 32 33 34 35 36 37 38 39 40]]]\n",
            "\n",
            "Row-wise array: \n",
            "[[ 1  2  3  4  5  6  7  8  9 10]\n",
            " [11 12 13 14 15 16 17 18 19 20]\n",
            " [21 22 23 24 25 26 27 28 29 30]\n",
            " [31 32 33 34 35 36 37 38 39 40]]\n",
            "\n",
            "Row-wise splitted array: \n",
            "[array([[ 1,  2,  3,  4,  5,  6,  7,  8,  9, 10],\n",
            "       [11, 12, 13, 14, 15, 16, 17, 18, 19, 20]]), array([[21, 22, 23, 24, 25, 26, 27, 28, 29, 30]]), array([[31, 32, 33, 34, 35, 36, 37, 38, 39, 40]])]\n",
            "\n"
          ]
        }
      ]
    },
    {
      "cell_type": "markdown",
      "source": [
        "## 11. Create a random seed with argument value `42`, and create a random array using `np.random.rand()` with shape (2x4), then follow the instructions provided below"
      ],
      "metadata": {
        "id": "AGjwatAct24x"
      }
    },
    {
      "cell_type": "code",
      "source": [
        "# Create a random seed\n",
        "\n",
        "# Create a random array with `np.random.rand()` with shape (2x4)\n",
        "\n",
        "# Print the size of the array\n",
        "\n",
        "# Print the shape of the array\n",
        "\n",
        "# Print the datatype of the array\n",
        "\n",
        "# Print the number of dimensions the array has"
      ],
      "metadata": {
        "id": "aof4NyoOuZg2"
      },
      "execution_count": 19,
      "outputs": []
    },
    {
      "cell_type": "markdown",
      "source": [
        "## 12. Manipulate the dimensions of the given array with shape (2x5) based on the instructions provided below"
      ],
      "metadata": {
        "id": "aJnuVVZ9vPJ3"
      }
    },
    {
      "cell_type": "code",
      "source": [
        "import numpy as np\n",
        "\n",
        "np.random.seed(42)\n",
        "\n",
        "# Given random array with shape (2x5)\n",
        "random_array = np.random.randint(10, size=(2, 5))\n",
        "\n",
        "# Swap the two dimension size from (2x5) to (5x2)\n",
        "\n",
        "# Reshape the array from (2x5) to (10x1)\n",
        "\n",
        "# Flatten the array"
      ],
      "metadata": {
        "id": "W8fFgFDzvc_a"
      },
      "execution_count": 20,
      "outputs": []
    },
    {
      "cell_type": "markdown",
      "source": [
        "## 13. Find the largest and smallest value of the given array based on the instructions provided below"
      ],
      "metadata": {
        "id": "cV11P75MwSpx"
      }
    },
    {
      "cell_type": "code",
      "source": [
        "import numpy as np\n",
        "\n",
        "np.random.seed(42)\n",
        "\n",
        "# Given array\n",
        "random_array = np.random.randint(100, size=(4, 5))\n",
        "\n",
        "# Take the largest value of the ENTIRE of the array\n",
        "\n",
        "# Take the smallest value of EACH ROW of the array"
      ],
      "metadata": {
        "id": "WP7G2HWwwuUF"
      },
      "execution_count": 21,
      "outputs": []
    },
    {
      "cell_type": "markdown",
      "source": [
        "## 14. Perform arithmetic operations using the two arrays provided below"
      ],
      "metadata": {
        "id": "CGky606qxVfV"
      }
    },
    {
      "cell_type": "code",
      "source": [
        "import numpy as np\n",
        "\n",
        "# First array\n",
        "first_array = np.array([5, 2, 10, 4])\n",
        "\n",
        "# Second array\n",
        "second_array = np.array([21, 52, 7, 10])\n",
        "\n",
        "# Add the two arrays\n",
        "\n",
        "# Subtract the two arrays\n",
        "\n",
        "# Multiply the two arrays\n",
        "\n",
        "# Divide the two arrays"
      ],
      "metadata": {
        "id": "6Tj64MWUxw8s"
      },
      "execution_count": 22,
      "outputs": []
    }
  ]
}