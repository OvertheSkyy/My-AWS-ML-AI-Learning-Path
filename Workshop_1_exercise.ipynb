{
  "nbformat": 4,
  "nbformat_minor": 0,
  "metadata": {
    "colab": {
      "provenance": [],
      "include_colab_link": true
    },
    "kernelspec": {
      "name": "python3",
      "display_name": "Python 3"
    },
    "language_info": {
      "name": "python"
    }
  },
  "cells": [
    {
      "cell_type": "markdown",
      "metadata": {
        "id": "view-in-github",
        "colab_type": "text"
      },
      "source": [
        "<a href=\"https://colab.research.google.com/github/OvertheSkyy/My-AWS-ML-AI-Learning-Path/blob/main/Workshop_1_exercise.ipynb\" target=\"_parent\"><img src=\"https://colab.research.google.com/assets/colab-badge.svg\" alt=\"Open In Colab\"/></a>"
      ]
    },
    {
      "cell_type": "markdown",
      "source": [
        "## Workshop #1 Exercise\n",
        "##### You can visit the notebook for reference: https://github.com/AWS-MLAI/AWS-Cloud-Cloud-PUP-Manila-ML-AI/blob/master/Workshop%231_assets/Workshop_1.ipynb"
      ],
      "metadata": {
        "id": "cM9gfflL_6dj"
      }
    },
    {
      "cell_type": "markdown",
      "source": [
        "# But before starting, please make a copy of this notebook where you will be writing your code for this workshop. To do this, please follow the steps shown by the image provided below.\n",
        "\n",
        "<img src= \"https://github.com/AWS-MLAI/AWS-Cloud-Cloud-PUP-Manila-ML-AI/blob/master/Images/Saving_a_copy.png?raw=true\" height=600 width=1000/>"
      ],
      "metadata": {
        "id": "PpKrw1qHT3OC"
      }
    },
    {
      "cell_type": "markdown",
      "source": [
        "# When you are done with the task/s on your notebook please make share that your notebook is accessible by following the steps shown by the image provided below.\n",
        "\n",
        "<img src=\"https://github.com/AWS-MLAI/AWS-Cloud-Cloud-PUP-Manila-ML-AI/blob/master/Images/Sharing_notebook.png?raw=true\" height=500 width=1000>\n",
        "\n",
        "# Then paste the link of your notebook at Google Classroom for submission."
      ],
      "metadata": {
        "id": "iZfBcM9aYdYa"
      }
    },
    {
      "cell_type": "markdown",
      "source": [
        "**PYTHON SYNTAX EXCERCISES (1-7)**\n",
        "\n"
      ],
      "metadata": {
        "id": "PiyhAneeJYZI"
      }
    },
    {
      "cell_type": "markdown",
      "source": [
        "### 1. Create a `myName` variable and `myAge` variable and print it using python formatting\n",
        "#### Sample output: `My name is Roljohn Frilles and I am 20 years old`"
      ],
      "metadata": {
        "id": "fwj3hEbVAgJC"
      }
    },
    {
      "cell_type": "code",
      "source": [
        "myName = \"Sung Jinwoo\"\n",
        "myAge = 24\n",
        "\n",
        "print(f\"My name is {myName} and I am {myAge} years old\")"
      ],
      "metadata": {
        "id": "T-9pGcfgBykr",
        "colab": {
          "base_uri": "https://localhost:8080/"
        },
        "outputId": "d19e9f30-0fc6-4268-ee19-783e9eee5c71"
      },
      "execution_count": 83,
      "outputs": [
        {
          "output_type": "stream",
          "name": "stdout",
          "text": [
            "My name is Sung Jinwoo and I am 24 years old\n"
          ]
        }
      ]
    },
    {
      "cell_type": "markdown",
      "source": [
        "### 2. Create an array of float and an array of strings both with size 3\n",
        "\n",
        "\n"
      ],
      "metadata": {
        "id": "gAw6zXYoB0W0"
      }
    },
    {
      "cell_type": "code",
      "source": [
        "random_float = [300.25, 655.76, 1782.78]\n",
        "hi_diff_countries = [\"Hi\", \"Bonjour\", \"Nǐn hǎo\"]\n",
        "\n",
        "print(f\"Array of float: {random_float}\")\n",
        "print(f\"Array of ways to say hi in different countries (strings): {hi_diff_countries}\")"
      ],
      "metadata": {
        "id": "dRXROrCDCy7_",
        "colab": {
          "base_uri": "https://localhost:8080/"
        },
        "outputId": "8f0a7876-ab77-4428-f837-5ed0cafeabb2"
      },
      "execution_count": 84,
      "outputs": [
        {
          "output_type": "stream",
          "name": "stdout",
          "text": [
            "Array of float: [300.25, 655.76, 1782.78]\n",
            "Array of ways to say hi in different countries (strings): ['Hi', 'Bonjour', 'Nǐn hǎo']\n"
          ]
        }
      ]
    },
    {
      "cell_type": "markdown",
      "source": [
        "### 3. Using the two variables `x` and `y` as operands given below, perform basic arithmetic operations, specifically addition, subtraction, multiplication, and division, then assign each to variable, and print them after."
      ],
      "metadata": {
        "id": "DXYJ8qZmC1l6"
      }
    },
    {
      "cell_type": "code",
      "source": [
        "# Given operands\n",
        "x = 20\n",
        "y = 5\n",
        "\n",
        "# Your code\n",
        "sum = x + y\n",
        "difference = x - y\n",
        "product = x * y\n",
        "quotient = x / y\n",
        "\n",
        "print(f\"Here are the results, sum: {sum}, difference: {difference}, product: {product}, quotient:{quotient}\")"
      ],
      "metadata": {
        "id": "d-D78Qh6Dpng",
        "colab": {
          "base_uri": "https://localhost:8080/"
        },
        "outputId": "9888d58d-16aa-4a60-b420-fb0dc15e0533"
      },
      "execution_count": 85,
      "outputs": [
        {
          "output_type": "stream",
          "name": "stdout",
          "text": [
            "Here are the results, sum: 25, difference: 15, product: 100, quotient:4.0\n"
          ]
        }
      ]
    },
    {
      "cell_type": "markdown",
      "source": [
        "## 4. Create a conditional statement to compare variables `myNumber` and `yourNumber`. Then make a print statement to determine whether `myNumber` is greater than `yourNumber` or vice versa."
      ],
      "metadata": {
        "id": "30qEI5ecEeVw"
      }
    },
    {
      "cell_type": "code",
      "source": [
        "# Variables to compare\n",
        "myNumber = 12\n",
        "yourNumber = 68\n",
        "\n",
        "\n",
        "# Your conditional statement\n",
        "if yourNumber > myNumber:\n",
        "  print(f\"My number, {yourNumber}, is greater than your number, {myNumber}.\")"
      ],
      "metadata": {
        "id": "CGQVc8LbHZsc",
        "colab": {
          "base_uri": "https://localhost:8080/"
        },
        "outputId": "7f013d0d-75d5-4151-d3fc-1889bde4cf79"
      },
      "execution_count": 86,
      "outputs": [
        {
          "output_type": "stream",
          "name": "stdout",
          "text": [
            "My number, 68, is greater than your number, 12.\n"
          ]
        }
      ]
    },
    {
      "cell_type": "markdown",
      "source": [
        "## 5. Make a for loop statement to print a sequence of values from 0 to 4 using `range()`"
      ],
      "metadata": {
        "id": "uzy5SbPKHlnY"
      }
    },
    {
      "cell_type": "code",
      "source": [
        "for i in range(5):\n",
        "  print(i)"
      ],
      "metadata": {
        "id": "P7ADHCbVIFOF",
        "colab": {
          "base_uri": "https://localhost:8080/"
        },
        "outputId": "63196d49-dc6b-4f43-bbf5-1ee7710d5ca3"
      },
      "execution_count": 87,
      "outputs": [
        {
          "output_type": "stream",
          "name": "stdout",
          "text": [
            "0\n",
            "1\n",
            "2\n",
            "3\n",
            "4\n"
          ]
        }
      ]
    },
    {
      "cell_type": "markdown",
      "source": [
        "## 6. Create a list with elements `[\"Artificial Intelligence\", \"Machine Learning\", \"Deep Learning\"]`, then Iterate and print each element of the list using for loop"
      ],
      "metadata": {
        "id": "XKq8z7UIIJoS"
      }
    },
    {
      "cell_type": "code",
      "source": [
        "ai_elements = [\"Artificial Intelligence\", \"Machine Learning\", \"Deep Learning\"]\n",
        "\n",
        "\n",
        "# Your for loop statement\n",
        "for i in ai_elements:\n",
        "  print(i)"
      ],
      "metadata": {
        "id": "WqUtJrfcIW_8",
        "colab": {
          "base_uri": "https://localhost:8080/"
        },
        "outputId": "8eb9e49d-1e83-4590-925a-a433193d7328"
      },
      "execution_count": 88,
      "outputs": [
        {
          "output_type": "stream",
          "name": "stdout",
          "text": [
            "Artificial Intelligence\n",
            "Machine Learning\n",
            "Deep Learning\n"
          ]
        }
      ]
    },
    {
      "cell_type": "markdown",
      "source": [
        "## 7. Create a function that multiply two numbers, and returns the product."
      ],
      "metadata": {
        "id": "T3M0VukfJHVA"
      }
    },
    {
      "cell_type": "code",
      "source": [
        "def product(num1, num2):\n",
        "    return num1 * num2\n",
        "\n",
        "result = product(2, 3)\n",
        "\n",
        "print(f\"Product: {result}\")"
      ],
      "metadata": {
        "id": "D_HaOnDeJT68",
        "colab": {
          "base_uri": "https://localhost:8080/"
        },
        "outputId": "990b5401-3bc9-4a60-a722-9015657c1f2f"
      },
      "execution_count": 89,
      "outputs": [
        {
          "output_type": "stream",
          "name": "stdout",
          "text": [
            "Product: 6\n"
          ]
        }
      ]
    },
    {
      "cell_type": "markdown",
      "source": [
        "**NUMPY EXERCISES**"
      ],
      "metadata": {
        "id": "G0SHgrLOJy01"
      }
    },
    {
      "cell_type": "markdown",
      "source": [
        "## 1. Import the `numpy` library as `np`, and Create 1D arrays of ones and zeros both with size `10`"
      ],
      "metadata": {
        "id": "koiRu8JYKO67"
      }
    },
    {
      "cell_type": "code",
      "source": [
        "import numpy as np\n",
        "\n",
        "zeros_1D_arr = np.zeros(10)\n",
        "\n",
        "ones_1D_arr = np.ones(10)\n",
        "\n",
        "#check array elements\n",
        "print(f\"My zeros 1D array: \\n{zeros_1D_arr}\\n \\n My ones 1D array: \\n{ones_1D_arr}\\n\")"
      ],
      "metadata": {
        "id": "S55P_xpoJ4xD",
        "colab": {
          "base_uri": "https://localhost:8080/"
        },
        "outputId": "69ee20f5-0712-44c1-9324-53186ea8dddf"
      },
      "execution_count": 90,
      "outputs": [
        {
          "output_type": "stream",
          "name": "stdout",
          "text": [
            "My zeros 1D array: \n",
            "[0. 0. 0. 0. 0. 0. 0. 0. 0. 0.]\n",
            " \n",
            " My ones 1D array: \n",
            "[1. 1. 1. 1. 1. 1. 1. 1. 1. 1.]\n",
            "\n"
          ]
        }
      ]
    },
    {
      "cell_type": "markdown",
      "source": [
        "## 2. Create 2D arrays of ones and zeros both with shape (3, 4)"
      ],
      "metadata": {
        "id": "t4eq6iRRK0ra"
      }
    },
    {
      "cell_type": "code",
      "source": [
        "zeros_two_dim_arr = np.zeros((3,4))\n",
        "\n",
        "ones_two_dim_arr = np.ones((3,4))\n",
        "\n",
        "#check array elements\n",
        "print(f\"My zeros 2D array: \\n{zeros_two_dim_arr}\\n \\n My ones 2D array: \\n{ones_two_dim_arr}\\n\")"
      ],
      "metadata": {
        "id": "5ZErJjeXK7hF",
        "colab": {
          "base_uri": "https://localhost:8080/"
        },
        "outputId": "c00c89b8-94c1-4fde-a5e6-3e1d5fd21cfd"
      },
      "execution_count": 91,
      "outputs": [
        {
          "output_type": "stream",
          "name": "stdout",
          "text": [
            "My zeros 2D array: \n",
            "[[0. 0. 0. 0.]\n",
            " [0. 0. 0. 0.]\n",
            " [0. 0. 0. 0.]]\n",
            " \n",
            " My ones 2D array: \n",
            "[[1. 1. 1. 1.]\n",
            " [1. 1. 1. 1.]\n",
            " [1. 1. 1. 1.]]\n",
            "\n"
          ]
        }
      ]
    },
    {
      "cell_type": "markdown",
      "source": [
        "## 3. Create a 2D array filled with a specific value `42` with shape (3, 4)."
      ],
      "metadata": {
        "id": "XKQWh-FfLiAW"
      }
    },
    {
      "cell_type": "code",
      "source": [
        "specific_value = 42\n",
        "\n",
        "my_2D_arr = np.full((3,4), specific_value)\n",
        "\n",
        "# Check 2D array\n",
        "print(f\"My 2D array: \\n{my_2D_arr}\")"
      ],
      "metadata": {
        "id": "HjbZm6fDMZRe",
        "colab": {
          "base_uri": "https://localhost:8080/"
        },
        "outputId": "f33d7855-0504-43e8-8046-ed8c3b5caa61"
      },
      "execution_count": 92,
      "outputs": [
        {
          "output_type": "stream",
          "name": "stdout",
          "text": [
            "My 2D array: \n",
            "[[42 42 42 42]\n",
            " [42 42 42 42]\n",
            " [42 42 42 42]]\n"
          ]
        }
      ]
    },
    {
      "cell_type": "markdown",
      "source": [
        "## 4. Create a variable named `nan_variable` and assign it a `nan` value, then check whether the variable `nan_variable` contains a `nan` value.\n",
        "\n"
      ],
      "metadata": {
        "id": "OiDbs6yJLsPp"
      }
    },
    {
      "cell_type": "code",
      "source": [
        "nan_variable = np.NaN # Assign a NaN value to variable `nan_value`\n",
        "\n",
        "if np.isnan(nan_variable) == True:\n",
        "  print(\"The nan_variable has a NaN value.\")"
      ],
      "metadata": {
        "id": "llCJl4_YMPxm",
        "colab": {
          "base_uri": "https://localhost:8080/"
        },
        "outputId": "d4771635-d5ed-4a3e-bb8b-4025a65b070a"
      },
      "execution_count": 93,
      "outputs": [
        {
          "output_type": "stream",
          "name": "stdout",
          "text": [
            "The nan_variable has a NaN value.\n"
          ]
        }
      ]
    },
    {
      "cell_type": "markdown",
      "source": [
        "## 5. Create a variable named `inf_variable` and assign it an `inf` value, then check whether the variable `inf_variable` contains an `inf` value.\n"
      ],
      "metadata": {
        "id": "hK1KV22ING4m"
      }
    },
    {
      "cell_type": "code",
      "source": [
        "inf_variable = np.inf # Assign a inf value to variable `inf_value`\n",
        "if np.isinf(inf_variable) == True:\n",
        "  print(\"The inf_variable has a inf value.\")"
      ],
      "metadata": {
        "id": "lGhIGWo5NOiu",
        "colab": {
          "base_uri": "https://localhost:8080/"
        },
        "outputId": "a1029d2a-ead5-42ef-db47-111ca29ec4ab"
      },
      "execution_count": 94,
      "outputs": [
        {
          "output_type": "stream",
          "name": "stdout",
          "text": [
            "The inf_variable has a inf value.\n"
          ]
        }
      ]
    },
    {
      "cell_type": "markdown",
      "source": [
        "## 6. Create an array based on the instruction below."
      ],
      "metadata": {
        "id": "mrAnXdaTmyb8"
      }
    },
    {
      "cell_type": "code",
      "source": [
        "# Create a 1D array with size 5\n",
        "one_dim_arr = np.array([1, 2, 3, 4, 5])\n",
        "\n",
        "# Check 1D array\n",
        "print(f\"1D array with size 5: \\n {one_dim_arr}\\n\")\n",
        "\n",
        "# Create a 2D array with shape (2x4)\n",
        "two_dim_arr = np.array([[1, 2, 3, 4], [5, 6, 7, 8]])\n",
        "\n",
        "print(f\"2D array with size 2x4: \\n {two_dim_arr}\\n\")"
      ],
      "metadata": {
        "id": "dXS-ghrsndoP",
        "colab": {
          "base_uri": "https://localhost:8080/"
        },
        "outputId": "66485413-ab2b-44df-c8a7-1d2701e9e8b1"
      },
      "execution_count": 95,
      "outputs": [
        {
          "output_type": "stream",
          "name": "stdout",
          "text": [
            "1D array with size 5: \n",
            " [1 2 3 4 5]\n",
            "\n",
            "2D array with size 2x4: \n",
            " [[1 2 3 4]\n",
            " [5 6 7 8]]\n",
            "\n"
          ]
        }
      ]
    },
    {
      "cell_type": "markdown",
      "source": [
        "\n",
        "## 7. Create random values based on the instruction provided below:"
      ],
      "metadata": {
        "id": "X-3db_4ToalV"
      }
    },
    {
      "cell_type": "code",
      "source": [
        "# Create a random array with an upper limit of 10 (numbers between 0-10) with shape (4x2)\n",
        "np.random.seed(1)\n",
        "\n",
        "upper_bound = 10\n",
        "\n",
        "random_array = np.random.randint(upper_bound, size=(4,2))\n",
        "print(f\"Random array: \\n{random_array}\\n\")\n",
        "\n",
        "# Create a random array with values ranging 0-1 using `np.random.rand()` with shape (4x2)\n",
        "random_array = np.random.rand(4,2)\n",
        "print(f\"Random array: \\n{random_array}\\n\")"
      ],
      "metadata": {
        "id": "fCw3efBdobDr",
        "colab": {
          "base_uri": "https://localhost:8080/"
        },
        "outputId": "8a5e5583-f90f-4576-89ca-9b27c69bce30"
      },
      "execution_count": 96,
      "outputs": [
        {
          "output_type": "stream",
          "name": "stdout",
          "text": [
            "Random array: \n",
            "[[5 8]\n",
            " [9 5]\n",
            " [0 0]\n",
            " [1 7]]\n",
            "\n",
            "Random array: \n",
            "[[0.34556073 0.39676747]\n",
            " [0.53881673 0.41919451]\n",
            " [0.6852195  0.20445225]\n",
            " [0.87811744 0.02738759]]\n",
            "\n"
          ]
        }
      ]
    },
    {
      "cell_type": "markdown",
      "source": [
        "\n",
        "## 8. Convert the given array's datatype below into integers"
      ],
      "metadata": {
        "id": "19snguEvo_Qa"
      }
    },
    {
      "cell_type": "code",
      "source": [
        "import numpy as np\n",
        "\n",
        "np.random.seed(42)\n",
        "given_array = np.random.uniform(10, size=(4, 2))\n",
        "\n",
        "# Your code\n",
        "given_array_transformed = given_array.astype(np.intc)\n",
        "\n",
        "print(f\"Given array: \\n{given_array}\\n\")\n",
        "print(f\"Converted given array: \\n{given_array_transformed}\")"
      ],
      "metadata": {
        "id": "3i5cl2fwq3WX",
        "colab": {
          "base_uri": "https://localhost:8080/"
        },
        "outputId": "f923c16a-bdfa-42f5-9db4-70214ecd4b6f"
      },
      "execution_count": 97,
      "outputs": [
        {
          "output_type": "stream",
          "name": "stdout",
          "text": [
            "Given array: \n",
            "[[6.62913893 1.44357124]\n",
            " [3.41205452 4.61207364]\n",
            " [8.59583224 8.59604932]\n",
            " [9.47724749 2.20441469]]\n",
            "\n",
            "Converted given array: \n",
            "[[6 1]\n",
            " [3 4]\n",
            " [8 8]\n",
            " [9 2]]\n"
          ]
        }
      ]
    },
    {
      "cell_type": "markdown",
      "source": [
        "## 9. Append the values `25` and `2` respectively to the given array below"
      ],
      "metadata": {
        "id": "Gpb-C3FcrAjf"
      }
    },
    {
      "cell_type": "code",
      "source": [
        "import numpy as np\n",
        "\n",
        "given_array = np.array([9, 2, 1, 7])\n",
        "\n",
        "val_to_append = [25, 2]\n",
        "val_array_appended = np.append(given_array, val_to_append)\n",
        "print(f\"Updated Array values: {val_array_appended}\\n\")"
      ],
      "metadata": {
        "id": "TvArec-NsGYc",
        "colab": {
          "base_uri": "https://localhost:8080/"
        },
        "outputId": "e47903af-3f22-4ac9-aa63-668d1fb3ed62"
      },
      "execution_count": 98,
      "outputs": [
        {
          "output_type": "stream",
          "name": "stdout",
          "text": [
            "Updated Array values: [ 9  2  1  7 25  2]\n",
            "\n"
          ]
        }
      ]
    },
    {
      "cell_type": "markdown",
      "source": [
        "## 10. Create your own two 2D arrays, then follow the instructions provided below"
      ],
      "metadata": {
        "id": "WbVvSl6nsbpn"
      }
    },
    {
      "cell_type": "code",
      "source": [
        "# Your first 2D array\n",
        "first_matrix = np.array([[1, 2, 3, 4, 5, 6, 7, 8, 9, 10], [11, 12, 13, 14, 15, 16, 17, 18, 19, 20]])\n",
        "\n",
        "# Your second 2D array\n",
        "second_matrix = np.array([[21, 22, 23, 24, 25, 26, 27, 28, 29, 30], [31, 32, 33, 34, 35, 36, 37, 38, 39, 40]])\n",
        "\n",
        "# Concatenate your two arrays column-wise\n",
        "concatenated_column_wise = np.hstack((first_matrix, second_matrix))\n",
        "print(f\"Concatenated arrays column-wise: \\n{concatenated_column_wise}\\n\")\n",
        "\n",
        "# Stack your two arrays\n",
        "stacked_matrix = np.stack((first_matrix, second_matrix))\n",
        "print(f\"Stacked arrays: \\n{stacked_matrix}\\n\")\n",
        "\n",
        "# Split your two arrays into 3 arrays row-wise\n",
        "\n",
        "concatenated_row_wise = np.vstack((first_matrix, second_matrix))\n",
        "split_to_three = 3\n",
        "split_matrix_row_wise = np.array_split(concatenated_row_wise, split_to_three, axis=0)\n",
        "\n",
        "print(f\"Row-wise array: \\n{concatenated_row_wise}\\n\")\n",
        "print(f\"Row-wise splitted array: \\n{split_matrix_row_wise}\\n\")"
      ],
      "metadata": {
        "id": "STBJJ0res-8p",
        "colab": {
          "base_uri": "https://localhost:8080/"
        },
        "outputId": "d54e79ac-bea6-466c-bc90-960d41c599ae"
      },
      "execution_count": 99,
      "outputs": [
        {
          "output_type": "stream",
          "name": "stdout",
          "text": [
            "Concatenated arrays column-wise: \n",
            "[[ 1  2  3  4  5  6  7  8  9 10 21 22 23 24 25 26 27 28 29 30]\n",
            " [11 12 13 14 15 16 17 18 19 20 31 32 33 34 35 36 37 38 39 40]]\n",
            "\n",
            "Stacked arrays: \n",
            "[[[ 1  2  3  4  5  6  7  8  9 10]\n",
            "  [11 12 13 14 15 16 17 18 19 20]]\n",
            "\n",
            " [[21 22 23 24 25 26 27 28 29 30]\n",
            "  [31 32 33 34 35 36 37 38 39 40]]]\n",
            "\n",
            "Row-wise array: \n",
            "[[ 1  2  3  4  5  6  7  8  9 10]\n",
            " [11 12 13 14 15 16 17 18 19 20]\n",
            " [21 22 23 24 25 26 27 28 29 30]\n",
            " [31 32 33 34 35 36 37 38 39 40]]\n",
            "\n",
            "Row-wise splitted array: \n",
            "[array([[ 1,  2,  3,  4,  5,  6,  7,  8,  9, 10],\n",
            "       [11, 12, 13, 14, 15, 16, 17, 18, 19, 20]]), array([[21, 22, 23, 24, 25, 26, 27, 28, 29, 30]]), array([[31, 32, 33, 34, 35, 36, 37, 38, 39, 40]])]\n",
            "\n"
          ]
        }
      ]
    },
    {
      "cell_type": "markdown",
      "source": [
        "## 11. Create a random seed with argument value `42`, and create a random array using `np.random.rand()` with shape (2x4), then follow the instructions provided below"
      ],
      "metadata": {
        "id": "AGjwatAct24x"
      }
    },
    {
      "cell_type": "code",
      "source": [
        "# Create a random seed\n",
        "np.random.seed(2)\n",
        "\n",
        "# Create a random array with `np.random.rand()` with shape (2x4)\n",
        "random_array = np.random.rand(2, 4)\n",
        "\n",
        "# Print the size of the array\n",
        "print(f\"Size of random array: {random_array.size}\")\n",
        "\n",
        "# Print the shape of the array\n",
        "print(f\"Shape of random array: {random_array.shape}\")\n",
        "\n",
        "# Print the datatype of the array\n",
        "print(f\"Data type of random array: {random_array.dtype}\")\n",
        "\n",
        "# Print the number of dimensions the array has\n",
        "print(f\"Number of dimensions of random array: {random_array.ndim}\")"
      ],
      "metadata": {
        "id": "aof4NyoOuZg2",
        "colab": {
          "base_uri": "https://localhost:8080/"
        },
        "outputId": "169b6031-9607-4ec7-e54b-b686658bdae5"
      },
      "execution_count": 106,
      "outputs": [
        {
          "output_type": "stream",
          "name": "stdout",
          "text": [
            "Size of random array: 8\n",
            "Shape of random array: (2, 4)\n",
            "Data type of random array: float64\n",
            "Number of dimensions of random array: 2\n"
          ]
        }
      ]
    },
    {
      "cell_type": "markdown",
      "source": [
        "## 12. Manipulate the dimensions of the given array with shape (2x5) based on the instructions provided below"
      ],
      "metadata": {
        "id": "aJnuVVZ9vPJ3"
      }
    },
    {
      "cell_type": "code",
      "source": [
        "import numpy as np\n",
        "\n",
        "np.random.seed(42)\n",
        "\n",
        "# Given random array with shape (2x5)\n",
        "random_array = np.random.randint(10, size=(2, 5))\n",
        "print(f\"Random array {random_array.shape}: \\n{random_array}\\n\")\n",
        "\n",
        "# Swap the two dimension size from (2x5) to (5x2)\n",
        "random_array_transposed = random_array.transpose(1,0)\n",
        "print(f\"Transposed random array {random_array_transposed.shape}: \\n{random_array_transposed}\\n\")\n",
        "\n",
        "# Reshape the array from (2x5) to (10x1)\n",
        "random_array_reshaped = random_array.reshape(10, 1)\n",
        "print(f\"Shape of random array reshaped: {random_array_reshaped.shape}\\n\")\n",
        "\n",
        "# Flatten the array\n",
        "random_array_flattened = random_array.flatten()\n",
        "print(f\"Flattened random array: {random_array_flattened}\")\n"
      ],
      "metadata": {
        "id": "W8fFgFDzvc_a",
        "colab": {
          "base_uri": "https://localhost:8080/"
        },
        "outputId": "5deb08f8-c2a7-403c-f119-fda637cfafdc"
      },
      "execution_count": 120,
      "outputs": [
        {
          "output_type": "stream",
          "name": "stdout",
          "text": [
            "Random array (2, 5): \n",
            "[[6 3 7 4 6]\n",
            " [9 2 6 7 4]]\n",
            "\n",
            "Transposed random array (5, 2): \n",
            "[[6 9]\n",
            " [3 2]\n",
            " [7 6]\n",
            " [4 7]\n",
            " [6 4]]\n",
            "\n",
            "Shape of random array reshaped: (10, 1)\n",
            "\n",
            "Flattened random array: [6 3 7 4 6 9 2 6 7 4]\n"
          ]
        }
      ]
    },
    {
      "cell_type": "markdown",
      "source": [
        "## 13. Find the largest and smallest value of the given array based on the instructions provided below"
      ],
      "metadata": {
        "id": "cV11P75MwSpx"
      }
    },
    {
      "cell_type": "code",
      "source": [
        "import numpy as np\n",
        "\n",
        "np.random.seed(42)\n",
        "\n",
        "# Given array\n",
        "random_array = np.random.randint(100, size=(4, 5))\n",
        "\n",
        "# Take the largest value of the ENTIRE of the array\n",
        "largest_value_entire = np.max(random_array)\n",
        "print(f\"Largest value found in the entire random array: {largest_value_entire}\")\n",
        "\n",
        "# Take the smallest value of EACH ROW of the array\n",
        "smallest_value_row = np.min(random_array, axis=1)\n",
        "print(f\"Smallest value found in each row of random array: {smallest_value_row}\")"
      ],
      "metadata": {
        "id": "WP7G2HWwwuUF",
        "colab": {
          "base_uri": "https://localhost:8080/"
        },
        "outputId": "7f765a55-491d-44af-b7ac-254e3318e4f6"
      },
      "execution_count": 122,
      "outputs": [
        {
          "output_type": "stream",
          "name": "stdout",
          "text": [
            "Largest value found in the entire random array: 99\n",
            "Smallest value found in each row of random array: [14 20  2  1]\n"
          ]
        }
      ]
    },
    {
      "cell_type": "markdown",
      "source": [
        "## 14. Perform arithmetic operations using the two arrays provided below"
      ],
      "metadata": {
        "id": "CGky606qxVfV"
      }
    },
    {
      "cell_type": "code",
      "source": [
        "import numpy as np\n",
        "\n",
        "# First array\n",
        "first_array = np.array([5, 2, 10, 4])\n",
        "\n",
        "# Second array\n",
        "second_array = np.array([21, 52, 7, 10])\n",
        "\n",
        "# Add the two arrays\n",
        "sum_two_arr = first_array + second_array\n",
        "print(f\"Sum of the two arrays: {sum_two_arr}\\n\")\n",
        "\n",
        "# Subtract the two arrays\n",
        "difference_two_arr = first_array - second_array\n",
        "print(f\"Difference of the two arrays: {difference_two_arr}\\n\")\n",
        "\n",
        "# Multiply the two arrays\n",
        "product_two_arr = first_array * second_array\n",
        "print(f\"Product of the two arrays: {product_two_arr}\\n\")\n",
        "\n",
        "# Divide the two arrays\n",
        "quotient_two_arr = first_array / second_array\n",
        "print(f\"Quotient of the two arrays: {quotient_two_arr}\")"
      ],
      "metadata": {
        "id": "6Tj64MWUxw8s",
        "colab": {
          "base_uri": "https://localhost:8080/"
        },
        "outputId": "a437e338-6d16-4ddd-c284-32d2aa015c2e"
      },
      "execution_count": 130,
      "outputs": [
        {
          "output_type": "stream",
          "name": "stdout",
          "text": [
            "Sum of the two arrays: [26 54 17 14]\n",
            "\n",
            "Difference of the two arrays: [-16 -50   3  -6]\n",
            "\n",
            "Product of the two arrays: [105 104  70  40]\n",
            "\n",
            "Quotient of the two arrays: [0.23809524 0.03846154 1.42857143 0.4       ]\n"
          ]
        }
      ]
    },
    {
      "cell_type": "markdown",
      "source": [
        "Submitted by: Gaeus Caskie Fabro"
      ],
      "metadata": {
        "id": "T_aWa4Ezp2pr"
      }
    }
  ]
}