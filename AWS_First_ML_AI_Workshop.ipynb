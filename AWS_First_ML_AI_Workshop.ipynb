{
  "nbformat": 4,
  "nbformat_minor": 0,
  "metadata": {
    "colab": {
      "provenance": [],
      "authorship_tag": "ABX9TyPvw6Q4XsHEG8g6r7fS8Q1A",
      "include_colab_link": true
    },
    "kernelspec": {
      "name": "python3",
      "display_name": "Python 3"
    },
    "language_info": {
      "name": "python"
    },
    "accelerator": "TPU"
  },
  "cells": [
    {
      "cell_type": "markdown",
      "metadata": {
        "id": "view-in-github",
        "colab_type": "text"
      },
      "source": [
        "<a href=\"https://colab.research.google.com/github/OvertheSkyy/My-AWS-ML-AI-Learning-Path/blob/main/AWS_First_ML_AI_Workshop.ipynb\" target=\"_parent\"><img src=\"https://colab.research.google.com/assets/colab-badge.svg\" alt=\"Open In Colab\"/></a>"
      ]
    },
    {
      "cell_type": "markdown",
      "source": [
        "**AWS** CLOUD PUP MANILA 𝐅𝐢𝐫𝐬𝐭 𝐌𝐋/𝐀𝐈 𝐖𝐨𝐫𝐤𝐬𝐡𝐨𝐩"
      ],
      "metadata": {
        "id": "cprl20p2JLhf"
      }
    },
    {
      "cell_type": "markdown",
      "source": [
        "traditional approach"
      ],
      "metadata": {
        "id": "3B9cUI0NNnM4"
      }
    },
    {
      "cell_type": "code",
      "source": [
        "myName = \"Sung Jinwoo\"\n",
        "myAge = 25\n",
        "\n",
        "print(\"My name is\", myName, \"and I am\", myAge, \"years old.\")"
      ],
      "metadata": {
        "colab": {
          "base_uri": "https://localhost:8080/"
        },
        "id": "DLocOoU7NzaO",
        "outputId": "fb47ba0f-2ba8-4789-95d5-f2fa1daae3db"
      },
      "execution_count": null,
      "outputs": [
        {
          "output_type": "stream",
          "name": "stdout",
          "text": [
            "My name is Sung Jinwoo and I am 25 years old.\n"
          ]
        }
      ]
    },
    {
      "cell_type": "markdown",
      "source": [
        "f-string approach - more concise"
      ],
      "metadata": {
        "id": "Fr99jI-8N1wB"
      }
    },
    {
      "cell_type": "code",
      "source": [
        "myName = \"Gaeus Caskie\"\n",
        "myAge = 20\n",
        "\n",
        "print(f\"My name is {myName} and I am {myAge} years old.\")"
      ],
      "metadata": {
        "colab": {
          "base_uri": "https://localhost:8080/"
        },
        "id": "t0m-rOJ-NlC6",
        "outputId": "8b4c89f0-8506-4dc3-9717-da877b077e78"
      },
      "execution_count": null,
      "outputs": [
        {
          "output_type": "stream",
          "name": "stdout",
          "text": [
            "My name is Gaeus Caskie and I am 20 years old.\n"
          ]
        }
      ]
    },
    {
      "cell_type": "markdown",
      "source": [
        "Python Arrays"
      ],
      "metadata": {
        "id": "sy37JY0_Ok7j"
      }
    },
    {
      "cell_type": "code",
      "source": [
        "intArr = [1, 0, 1, 2]\n",
        "print(intArr)"
      ],
      "metadata": {
        "colab": {
          "base_uri": "https://localhost:8080/"
        },
        "id": "K9nMaPpwOWwk",
        "outputId": "1a10ee34-1609-4cc7-ef38-4e645d2c4dec"
      },
      "execution_count": null,
      "outputs": [
        {
          "output_type": "stream",
          "name": "stdout",
          "text": [
            "[1, 0, 1, 2]\n"
          ]
        }
      ]
    },
    {
      "cell_type": "markdown",
      "source": [
        "Python Operations"
      ],
      "metadata": {
        "id": "xFY6zyo4PAfW"
      }
    },
    {
      "cell_type": "code",
      "source": [
        "division = 10/3\n",
        "\n",
        "print(f\"Division result: {division:.2f}\") # '.2f' to limit decimal places"
      ],
      "metadata": {
        "colab": {
          "base_uri": "https://localhost:8080/"
        },
        "id": "sv3ZUSWdOZqn",
        "outputId": "06659615-162d-47bf-d7c1-44fb0ae830a9"
      },
      "execution_count": null,
      "outputs": [
        {
          "output_type": "stream",
          "name": "stdout",
          "text": [
            "Division result: 3.33\n"
          ]
        }
      ]
    },
    {
      "cell_type": "markdown",
      "source": [
        "Conditional statements"
      ],
      "metadata": {
        "id": "eBJB8sE7QQ6K"
      }
    },
    {
      "cell_type": "code",
      "source": [
        "given_number = 0\n",
        "number_to_compare = 1\n",
        "\n",
        "if given_number == number_to_compare:\n",
        "  print(f\"Given number, {given_number} is equal to {number_to_compare}\")"
      ],
      "metadata": {
        "id": "EQgFGJJRPIvc"
      },
      "execution_count": null,
      "outputs": []
    },
    {
      "cell_type": "markdown",
      "source": [
        "For and while loops"
      ],
      "metadata": {
        "id": "1HvoUzZfQnxb"
      }
    },
    {
      "cell_type": "code",
      "source": [
        "for i in range(5):\n",
        "  print(\"I'm a for loop.\")"
      ],
      "metadata": {
        "colab": {
          "base_uri": "https://localhost:8080/"
        },
        "id": "aWt06XPkQmSr",
        "outputId": "0ce4669a-5343-463e-bdea-2ff114879ed8"
      },
      "execution_count": null,
      "outputs": [
        {
          "output_type": "stream",
          "name": "stdout",
          "text": [
            "I'm a for loop.\n",
            "I'm a for loop.\n",
            "I'm a for loop.\n",
            "I'm a for loop.\n",
            "I'm a for loop.\n"
          ]
        }
      ]
    },
    {
      "cell_type": "code",
      "source": [
        "# while_loop = 2\n",
        "\n",
        "# while while_loop != 0:\n",
        "#   print(\"I'm a while loop.\")"
      ],
      "metadata": {
        "id": "QbjTvMxzQwNF"
      },
      "execution_count": null,
      "outputs": []
    },
    {
      "cell_type": "markdown",
      "source": [
        "Iterate elements in List"
      ],
      "metadata": {
        "id": "d1O87GFPRa88"
      }
    },
    {
      "cell_type": "code",
      "source": [
        "my_list = [\"Computer\", \"Engineering\", \"Department\"]\n",
        "\n",
        "for elements in my_list:\n",
        "  print(elements)"
      ],
      "metadata": {
        "colab": {
          "base_uri": "https://localhost:8080/"
        },
        "id": "gZa5LoG4Q53Y",
        "outputId": "564d1a18-1133-4b7d-83a1-7ff422b3c99a"
      },
      "execution_count": null,
      "outputs": [
        {
          "output_type": "stream",
          "name": "stdout",
          "text": [
            "Computer\n",
            "Engineering\n",
            "Department\n"
          ]
        }
      ]
    },
    {
      "cell_type": "markdown",
      "source": [
        "Functions"
      ],
      "metadata": {
        "id": "CAzIELn2R0q0"
      }
    },
    {
      "cell_type": "code",
      "source": [
        "def addition(first_number, second_number):\n",
        "    sum = first_number + second_number\n",
        "\n",
        "    return sum\n",
        "\n",
        "result = addition(5, 3)\n",
        "\n",
        "result"
      ],
      "metadata": {
        "colab": {
          "base_uri": "https://localhost:8080/"
        },
        "id": "S4Ahufk1RPwt",
        "outputId": "49460622-1e15-4c8e-de33-863c4650c98a"
      },
      "execution_count": null,
      "outputs": [
        {
          "output_type": "execute_result",
          "data": {
            "text/plain": [
              "8"
            ]
          },
          "metadata": {},
          "execution_count": 28
        }
      ]
    },
    {
      "cell_type": "markdown",
      "source": [
        "##Libraries"
      ],
      "metadata": {
        "id": "XKgD1L8zUAm9"
      }
    },
    {
      "cell_type": "markdown",
      "source": [
        "Numpy - numerical python"
      ],
      "metadata": {
        "id": "NL0Fa8ZEUxfU"
      }
    },
    {
      "cell_type": "code",
      "source": [
        "import numpy as np"
      ],
      "metadata": {
        "id": "TlGIBGwXUxPk"
      },
      "execution_count": null,
      "outputs": []
    },
    {
      "cell_type": "code",
      "source": [
        "#1D zeros\n",
        "\n",
        "zeros_1d = np.zeros(10)\n",
        "zeros_1d\n",
        "\n",
        "#1D ones\n",
        "ones_1d = np.ones(10)\n",
        "ones_1d\n",
        "\n",
        "#2D zeros\n",
        "columns = 2\n",
        "rows = 5\n",
        "\n",
        "zeros_2d = np.zeros((rows, columns)) # TUPLE {}\n",
        "zeros_2d\n",
        "\n",
        "#2D ones\n",
        "ones_2d = np.ones((rows, columns))\n",
        "ones_2d\n",
        "\n",
        "\n",
        "#1D full\n",
        "full_1d = np.full((10), 42)\n",
        "full_1d"
      ],
      "metadata": {
        "colab": {
          "base_uri": "https://localhost:8080/"
        },
        "id": "JRDIRJ9HTPwe",
        "outputId": "0f99bbea-bf66-4bbe-f61d-e26afe131f3e"
      },
      "execution_count": null,
      "outputs": [
        {
          "output_type": "execute_result",
          "data": {
            "text/plain": [
              "array([42, 42, 42, 42, 42, 42, 42, 42, 42, 42])"
            ]
          },
          "metadata": {},
          "execution_count": 46
        }
      ]
    },
    {
      "cell_type": "markdown",
      "source": [
        "Check if value is not a number (NaN)"
      ],
      "metadata": {
        "id": "4bnb0BEuZ-tS"
      }
    },
    {
      "cell_type": "code",
      "source": [
        "import numpy as np\n",
        "import random\n",
        "\n",
        "nan_val = np.NaN\n",
        "\n",
        "\n",
        "if np.isnan(nan_val) == True:\n",
        "  print(\"The variable is NaN.\")\n",
        "else:\n",
        "  print(\"The variable is not NaN.\")"
      ],
      "metadata": {
        "colab": {
          "base_uri": "https://localhost:8080/"
        },
        "id": "FwtpBAqcXC1V",
        "outputId": "5f4122f6-4c56-4ff5-fdf5-d4b0604d72db"
      },
      "execution_count": null,
      "outputs": [
        {
          "output_type": "stream",
          "name": "stdout",
          "text": [
            "The variable is NaN.\n"
          ]
        }
      ]
    },
    {
      "cell_type": "markdown",
      "source": [
        "Check if value is infinity/infinite"
      ],
      "metadata": {
        "id": "Sx6XsOGXaQ-i"
      }
    },
    {
      "cell_type": "code",
      "source": [
        "inf_val = np.inf\n",
        "\n",
        "if np.isinf(inf_val) == True:\n",
        "  print(\"The variable is infinity\")\n",
        "else:\n",
        "  print(\"The variable is not inifinity\")"
      ],
      "metadata": {
        "colab": {
          "base_uri": "https://localhost:8080/"
        },
        "id": "waLUsgrfZDoz",
        "outputId": "e47d6db4-1b82-46a2-ced0-507566b3f09d"
      },
      "execution_count": null,
      "outputs": [
        {
          "output_type": "stream",
          "name": "stdout",
          "text": [
            "The variable is infinity\n"
          ]
        }
      ]
    },
    {
      "cell_type": "markdown",
      "source": [
        "Create array using numpy"
      ],
      "metadata": {
        "id": "bvvZphfIaXRY"
      }
    },
    {
      "cell_type": "code",
      "source": [
        "np_array = np.array([1, 2, 3, 4, 5]) #input is list\n",
        "\n",
        "np_array\n",
        "\n",
        "first_row = [1, 2, 3]\n",
        "second_row = [4, 5, 6]\n",
        "\n",
        "two_dimensional_array = np.array([first_row,\n",
        "                                  second_row])\n",
        "two_dimensional_array\n",
        "\n",
        "two_dimensional_array.shape"
      ],
      "metadata": {
        "colab": {
          "base_uri": "https://localhost:8080/"
        },
        "id": "WYZPWKoaaOsH",
        "outputId": "034a9501-310b-4250-ee3d-4c46189cad92"
      },
      "execution_count": null,
      "outputs": [
        {
          "output_type": "execute_result",
          "data": {
            "text/plain": [
              "(2, 3)"
            ]
          },
          "metadata": {},
          "execution_count": 72
        }
      ]
    },
    {
      "cell_type": "markdown",
      "source": [
        "Step -\n",
        "\n",
        "\n"
      ],
      "metadata": {
        "id": "J3mv8nW_hu-K"
      }
    },
    {
      "cell_type": "code",
      "source": [
        "#Create an array using '.arange()'\n",
        "\n",
        "starting_number = 0\n",
        "ending_number = 41\n",
        "step = 1\n",
        "array_with_arange = np.arange(starting_number, ending_number, step)\n",
        "\n",
        "array_with_arange\n",
        "\n",
        "\n",
        "#Create an array using '.linspace()'\n",
        "starting_number = 0\n",
        "ending_number = 40\n",
        "amount_to_generate = 41\n",
        "array_with_linspace = np.linspace(starting_number,\n",
        "                                  ending_number,\n",
        "                                  amount_to_generate)\n",
        "\n",
        "array_with_linspace"
      ],
      "metadata": {
        "colab": {
          "base_uri": "https://localhost:8080/"
        },
        "id": "yADJ4pykanAq",
        "outputId": "9e83d3e2-ade8-430f-cbef-55a2f5d04b0e"
      },
      "execution_count": null,
      "outputs": [
        {
          "output_type": "execute_result",
          "data": {
            "text/plain": [
              "array([ 0.,  1.,  2.,  3.,  4.,  5.,  6.,  7.,  8.,  9., 10., 11., 12.,\n",
              "       13., 14., 15., 16., 17., 18., 19., 20., 21., 22., 23., 24., 25.,\n",
              "       26., 27., 28., 29., 30., 31., 32., 33., 34., 35., 36., 37., 38.,\n",
              "       39., 40.])"
            ]
          },
          "metadata": {},
          "execution_count": 83
        }
      ]
    },
    {
      "cell_type": "code",
      "source": [
        "upper_bound = 6\n",
        "size_1 = 2\n",
        "size_2 = 5\n",
        "\n",
        "random_array = np.random.randint(upper_bound, size=(size_1, size_2))\n",
        "\n",
        "random_array"
      ],
      "metadata": {
        "colab": {
          "base_uri": "https://localhost:8080/"
        },
        "id": "6s4Okv6-iF41",
        "outputId": "fa47491e-8ff4-48f9-f20c-465b3071b30e"
      },
      "execution_count": null,
      "outputs": [
        {
          "output_type": "execute_result",
          "data": {
            "text/plain": [
              "array([[5, 2, 2, 0, 1],\n",
              "       [2, 5, 0, 1, 3]])"
            ]
          },
          "metadata": {},
          "execution_count": 87
        }
      ]
    },
    {
      "cell_type": "code",
      "source": [
        "# Create array with values between 0 and 1\n",
        "random_distribution = np.random.rand(2, 5)\n",
        "\n",
        "# Create an array within a certain interval\n",
        "size = (2, 5)\n",
        "random_uniform_array = np.random.uniform(3, 5, size)\n",
        "random_uniform_array_transformed = random_uniform_array.astype(np.intc) #use of .astype to convert array to another data type\n",
        "\n",
        "random_uniform_array_transformed"
      ],
      "metadata": {
        "colab": {
          "base_uri": "https://localhost:8080/"
        },
        "id": "nOHtQc2YkRpB",
        "outputId": "d582f241-b872-4d16-d1b6-ae6fce6526cc"
      },
      "execution_count": null,
      "outputs": [
        {
          "output_type": "execute_result",
          "data": {
            "text/plain": [
              "array([[3, 3, 4, 3, 4],\n",
              "       [3, 4, 4, 3, 3]], dtype=int32)"
            ]
          },
          "metadata": {},
          "execution_count": 90
        }
      ]
    },
    {
      "cell_type": "markdown",
      "source": [
        "Append, Insert, Delete for numpy array"
      ],
      "metadata": {
        "id": "W-nRwN1DnGAh"
      }
    },
    {
      "cell_type": "code",
      "source": [
        "#Append\n",
        "my_array = np.array([0, 1, 2, 3, 4, 8])\n",
        "\n",
        "numbers_to_append = [9, 10]\n",
        "my_array_appended = np.append(my_array, numbers_to_append)\n",
        "\n",
        "my_array_appended\n",
        "\n",
        "#Insert\n",
        "index = 5\n",
        "numbers_to_insert = [5, 6, 7]\n",
        "my_array_inserted = np.insert(my_array, index, numbers_to_insert)\n",
        "my_array_inserted\n",
        "\n",
        "#Delete\n",
        "index = 5\n",
        "my_array_deleted = np.delete(my_array, index)\n",
        "my_array_deleted"
      ],
      "metadata": {
        "colab": {
          "base_uri": "https://localhost:8080/"
        },
        "id": "o8Od0lRDldYK",
        "outputId": "1466cb90-e61f-4bc8-9dc0-4084e0f8fa87"
      },
      "execution_count": null,
      "outputs": [
        {
          "output_type": "execute_result",
          "data": {
            "text/plain": [
              "array([0, 1, 2, 3, 4])"
            ]
          },
          "metadata": {},
          "execution_count": 94
        }
      ]
    },
    {
      "cell_type": "markdown",
      "source": [
        "2D Array - Matrix"
      ],
      "metadata": {
        "id": "PcE6rhaCo5i2"
      }
    },
    {
      "cell_type": "code",
      "source": [
        "matrix_1 = np.array([[1, 2, 3, 4],\n",
        "                     [5, 6, 7, 8]])\n",
        "\n",
        "matrix_2 = np.array([[9, 10, 11, 12],\n",
        "                     [13, 14, 15, 16]])\n",
        "\n",
        "concatenated_row_wise = np.concatenate((matrix_1, matrix_2),\n",
        "                                        axis=0) #row wise\n",
        "\n",
        "concatenated_column_wise = np.concatenate((matrix_1, matrix_2),\n",
        "                                        axis=1) #column wise\n",
        "\n",
        "concatenated_column_wise\n",
        "\n",
        "\n",
        "#Using stack\n",
        "\n",
        "stacked_matrix = np.stack((matrix_1, matrix_2))\n",
        "stacked_matrix\n",
        "\n",
        "#Using split\n",
        "num_arrays_to_split = 2\n",
        "splitted_matrix_row_wise = np.split(concatenated_row_wise, num_arrays_to_split, axis=0) #row wise\n",
        "splitted_matrix_column_wise = np.split(concatenated_column_wise, num_arrays_to_split, axis=1) #column wise\n",
        "\n",
        "splitted_matrix_column_wise"
      ],
      "metadata": {
        "colab": {
          "base_uri": "https://localhost:8080/"
        },
        "id": "7-sfx7fgo6_B",
        "outputId": "8a033c64-4892-49f8-cd27-000f4777dda3"
      },
      "execution_count": null,
      "outputs": [
        {
          "output_type": "execute_result",
          "data": {
            "text/plain": [
              "[array([[1, 2, 3, 4],\n",
              "        [5, 6, 7, 8]]),\n",
              " array([[ 9, 10, 11, 12],\n",
              "        [13, 14, 15, 16]])]"
            ]
          },
          "metadata": {},
          "execution_count": 104
        }
      ]
    },
    {
      "cell_type": "markdown",
      "source": [
        "Seed"
      ],
      "metadata": {
        "id": "AT-fbPRkrqea"
      }
    },
    {
      "cell_type": "code",
      "source": [
        "np.random.seed(42)\n",
        "\n",
        "random_array = np.random.rand(5, 2)\n",
        "random_array\n",
        "\n",
        "# Check array shape\n",
        "random_array_shape = random_array.shape\n",
        "\n",
        "random_array_shape\n",
        "\n",
        "\n",
        "# Check number of dimensions\n",
        "random_array_ndimensions = random_array.ndim\n",
        "\n",
        "# Check total size of array\n",
        "random_array_size = random_array.size\n",
        "random_array_size"
      ],
      "metadata": {
        "colab": {
          "base_uri": "https://localhost:8080/"
        },
        "id": "2QohooRQncD8",
        "outputId": "df92efa6-988a-4173-a785-e9e904b2558b"
      },
      "execution_count": null,
      "outputs": [
        {
          "output_type": "execute_result",
          "data": {
            "text/plain": [
              "10"
            ]
          },
          "metadata": {},
          "execution_count": 114
        }
      ]
    },
    {
      "cell_type": "markdown",
      "source": [
        "Slicing"
      ],
      "metadata": {
        "id": "XK5s2WGNyIaW"
      }
    },
    {
      "cell_type": "code",
      "source": [
        "np.random.seed(42)\n",
        "random_array = np.random.randint(20, size=(5, 5))\n",
        "\n",
        "element = random_array[4, 1]\n",
        "\n",
        "elements_in_row = random_array[3, :]\n",
        "\n",
        "elements_in_column = random_array[:, 1]\n",
        "\n",
        "elements_within_row = random_array[0, 1:4]\n",
        "\n",
        "elements_within_column = random_array[0:3, 1]\n",
        "elements_within_column\n"
      ],
      "metadata": {
        "colab": {
          "base_uri": "https://localhost:8080/"
        },
        "id": "ufusDdHhr0Bt",
        "outputId": "3f52ffc9-09a1-45ce-cbd3-aa55a0ff0beb"
      },
      "execution_count": null,
      "outputs": [
        {
          "output_type": "execute_result",
          "data": {
            "text/plain": [
              "array([19, 18,  2])"
            ]
          },
          "metadata": {},
          "execution_count": 120
        }
      ]
    },
    {
      "cell_type": "markdown",
      "source": [
        "Transpose (row to column)"
      ],
      "metadata": {
        "id": "tzc6tMVLvoTe"
      }
    },
    {
      "cell_type": "code",
      "source": [
        "np.random.seed(42)\n",
        "\n",
        "random_array = np.random.randint(20, size=(2, 5))\n",
        "\n",
        "random_array_transposed = random_array.transpose(1, 0) #swap (2, 5) to (5, 2)\n",
        "random_array_transposed"
      ],
      "metadata": {
        "colab": {
          "base_uri": "https://localhost:8080/"
        },
        "id": "eKBm1VpZu6bB",
        "outputId": "5e70fed7-0aa5-49ae-a2ea-5c14a74a054f"
      },
      "execution_count": null,
      "outputs": [
        {
          "output_type": "execute_result",
          "data": {
            "text/plain": [
              "array([[ 6,  6],\n",
              "       [19, 18],\n",
              "       [14, 10],\n",
              "       [10, 10],\n",
              "       [ 7,  3]])"
            ]
          },
          "metadata": {},
          "execution_count": 121
        }
      ]
    },
    {
      "cell_type": "markdown",
      "source": [
        "Reshape"
      ],
      "metadata": {
        "id": "IrvYvC3Bv21C"
      }
    },
    {
      "cell_type": "code",
      "source": [
        "random_array_reshape = random_array.reshape(5, 2)\n",
        "random_array_reshape"
      ],
      "metadata": {
        "colab": {
          "base_uri": "https://localhost:8080/"
        },
        "id": "Q6HrFPVfv5Gn",
        "outputId": "2c1edb12-7b52-433a-cc5e-c0b5bf68c3ab"
      },
      "execution_count": null,
      "outputs": [
        {
          "output_type": "execute_result",
          "data": {
            "text/plain": [
              "array([[ 6, 19],\n",
              "       [14, 10],\n",
              "       [ 7,  6],\n",
              "       [18, 10],\n",
              "       [10,  3]])"
            ]
          },
          "metadata": {},
          "execution_count": 119
        }
      ]
    },
    {
      "cell_type": "markdown",
      "source": [
        "Flatten"
      ],
      "metadata": {
        "id": "ctphMcemwPKR"
      }
    },
    {
      "cell_type": "code",
      "source": [
        "random_array_flatten = random_array.flatten()\n",
        "random_array_flatten"
      ],
      "metadata": {
        "colab": {
          "base_uri": "https://localhost:8080/"
        },
        "id": "1pGPyYKswDWD",
        "outputId": "dfebfcb8-30b2-4e4f-fcb6-3087dc4d0cb4"
      },
      "execution_count": null,
      "outputs": [
        {
          "output_type": "execute_result",
          "data": {
            "text/plain": [
              "array([ 6, 19, 14, 10,  7,  6, 18, 10, 10,  3])"
            ]
          },
          "metadata": {},
          "execution_count": 122
        }
      ]
    }
  ]
}